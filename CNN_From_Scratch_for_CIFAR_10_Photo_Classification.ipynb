{
  "nbformat": 4,
  "nbformat_minor": 0,
  "metadata": {
    "colab": {
      "provenance": [],
      "authorship_tag": "ABX9TyMIv9xfjl9fVLLT63QPHFZZ",
      "include_colab_link": true
    },
    "kernelspec": {
      "name": "python3",
      "display_name": "Python 3"
    },
    "language_info": {
      "name": "python"
    }
  },
  "cells": [
    {
      "cell_type": "markdown",
      "metadata": {
        "id": "view-in-github",
        "colab_type": "text"
      },
      "source": [
        "<a href=\"https://colab.research.google.com/github/adimis-ai/Computer_Vision_Projects/blob/main/CNN_From_Scratch_for_CIFAR_10_Photo_Classification.ipynb\" target=\"_parent\"><img src=\"https://colab.research.google.com/assets/colab-badge.svg\" alt=\"Open In Colab\"/></a>"
      ]
    },
    {
      "cell_type": "code",
      "source": [
        "import tensorflow as tf\n",
        "import matplotlib.pyplot as plt"
      ],
      "metadata": {
        "id": "DsX0q-zwkpKE"
      },
      "execution_count": 11,
      "outputs": []
    },
    {
      "cell_type": "code",
      "source": [
        "from tensorflow.keras.datasets import cifar10"
      ],
      "metadata": {
        "id": "H9l2NZcEkqTx"
      },
      "execution_count": 12,
      "outputs": []
    },
    {
      "cell_type": "markdown",
      "source": [
        "**Loading the dataset**"
      ],
      "metadata": {
        "id": "OyGzHuWJlbDC"
      }
    },
    {
      "cell_type": "code",
      "source": [
        "# setting class names\n",
        "class_names=['airplane','automobile','bird','cat','deer','dog','frog','horse','ship','truck']\n",
        "#loading the dataset\n",
        "(x_train,y_train),(x_test,y_test)=cifar10.load_data()"
      ],
      "metadata": {
        "id": "DYpzPYTkksPL"
      },
      "execution_count": 13,
      "outputs": []
    },
    {
      "cell_type": "markdown",
      "source": [
        "**Normalizing the Images**"
      ],
      "metadata": {
        "id": "14SWv3nplejV"
      }
    },
    {
      "cell_type": "code",
      "source": [
        "x_train=x_train/255.0\n",
        "x_train.shape"
      ],
      "metadata": {
        "colab": {
          "base_uri": "https://localhost:8080/"
        },
        "id": "AzPukatwkt9Z",
        "outputId": "fcec5ec9-6ce5-411d-bf2b-8303057a8fc8"
      },
      "execution_count": 14,
      "outputs": [
        {
          "output_type": "execute_result",
          "data": {
            "text/plain": [
              "(50000, 32, 32, 3)"
            ]
          },
          "metadata": {},
          "execution_count": 14
        }
      ]
    },
    {
      "cell_type": "code",
      "source": [
        "x_test=x_test/255.0\n",
        "x_test.shape"
      ],
      "metadata": {
        "colab": {
          "base_uri": "https://localhost:8080/"
        },
        "id": "gZWs4X4NkvFP",
        "outputId": "998ebe85-f99a-45f7-8186-e851fed057ed"
      },
      "execution_count": 15,
      "outputs": [
        {
          "output_type": "execute_result",
          "data": {
            "text/plain": [
              "(10000, 32, 32, 3)"
            ]
          },
          "metadata": {},
          "execution_count": 15
        }
      ]
    },
    {
      "cell_type": "markdown",
      "source": [
        "Randomly Checking a image"
      ],
      "metadata": {
        "id": "gTySGoq0lkR-"
      }
    },
    {
      "cell_type": "code",
      "source": [
        "plt.imshow(x_test[215])"
      ],
      "metadata": {
        "colab": {
          "base_uri": "https://localhost:8080/",
          "height": 283
        },
        "id": "ltWqEgzzkxFw",
        "outputId": "4a5adc59-0631-4446-9c4f-8331b6b1f3a7"
      },
      "execution_count": 16,
      "outputs": [
        {
          "output_type": "execute_result",
          "data": {
            "text/plain": [
              "<matplotlib.image.AxesImage at 0x7fa9418603d0>"
            ]
          },
          "metadata": {},
          "execution_count": 16
        },
        {
          "output_type": "display_data",
          "data": {
            "text/plain": [
              "<Figure size 432x288 with 1 Axes>"
            ],
            "image/png": "[encoded data removed]"
          },
          "metadata": {
            "needs_background": "light"
          }
        }
      ]
    },
    {
      "cell_type": "markdown",
      "source": [
        "**Building a Convolutional Neural Network**"
      ],
      "metadata": {
        "id": "ARNBcn06lnj3"
      }
    },
    {
      "cell_type": "code",
      "source": [
        "cifar10_model=tf.keras.models.Sequential()"
      ],
      "metadata": {
        "id": "O2mKDyzakzI3"
      },
      "execution_count": 17,
      "outputs": []
    },
    {
      "cell_type": "code",
      "source": [
        "# First Layer\n",
        "cifar10_model.add(tf.keras.layers.Conv2D(filters=32,kernel_size=3,padding=\"same\", activation=\"relu\", input_shape=[32,32,3]))\n",
        "# Second Layer\n",
        "cifar10_model.add(tf.keras.layers.Conv2D(filters=32,kernel_size=3,padding=\"same\", activation=\"relu\"))\n",
        "# Max Pooling Layer\n",
        "cifar10_model.add(tf.keras.layers.MaxPool2D(pool_size=2,strides=2,padding='valid'))\n",
        "# Third Layer\n",
        "cifar10_model.add(tf.keras.layers.Conv2D(filters=64,kernel_size=3,padding=\"same\", activation=\"relu\"))\n",
        "# Fourth Layer\n",
        "cifar10_model.add(tf.keras.layers.Conv2D(filters=64,kernel_size=3,padding=\"same\", activation=\"relu\"))\n",
        "# Max Pooling Layer\n",
        "cifar10_model.add(tf.keras.layers.MaxPool2D(pool_size=2,strides=2,padding='valid'))\n",
        "# Flattening Layer\n",
        "cifar10_model.add(tf.keras.layers.Flatten())\n",
        "# Droput Layer\n",
        "cifar10_model.add(tf.keras.layers.Dropout(0.5,noise_shape=None,seed=None))\n",
        "# Adding the first fully connected layer\n",
        "cifar10_model.add(tf.keras.layers.Dense(units=128,activation='relu'))\n",
        "# Output Layer\n",
        "cifar10_model.add(tf.keras.layers.Dense(units=10,activation='softmax'))\n",
        "\n",
        "cifar10_model.summary()"
      ],
      "metadata": {
        "colab": {
          "base_uri": "https://localhost:8080/"
        },
        "id": "B-V8Pn46k6zg",
        "outputId": "90d3ac55-ac1c-4783-a70d-7bce03a97fb9"
      },
      "execution_count": 18,
      "outputs": [
        {
          "output_type": "stream",
          "name": "stdout",
          "text": [
            "Model: \"sequential_1\"\n",
            "_________________________________________________________________\n",
            " Layer (type)                Output Shape              Param #   \n",
            "=================================================================\n",
            " conv2d (Conv2D)             (None, 32, 32, 32)        896       \n",
            "                                                                 \n",
            " conv2d_1 (Conv2D)           (None, 32, 32, 32)        9248      \n",
            "                                                                 \n",
            " max_pooling2d (MaxPooling2D  (None, 16, 16, 32)       0         \n",
            " )                                                               \n",
            "                                                                 \n",
            " conv2d_2 (Conv2D)           (None, 16, 16, 64)        18496     \n",
            "                                                                 \n",
            " conv2d_3 (Conv2D)           (None, 16, 16, 64)        36928     \n",
            "                                                                 \n",
            " max_pooling2d_1 (MaxPooling  (None, 8, 8, 64)         0         \n",
            " 2D)                                                             \n",
            "                                                                 \n",
            " flatten (Flatten)           (None, 4096)              0         \n",
            "                                                                 \n",
            " dropout (Dropout)           (None, 4096)              0         \n",
            "                                                                 \n",
            " dense (Dense)               (None, 128)               524416    \n",
            "                                                                 \n",
            " dense_1 (Dense)             (None, 10)                1290      \n",
            "                                                                 \n",
            "=================================================================\n",
            "Total params: 591,274\n",
            "Trainable params: 591,274\n",
            "Non-trainable params: 0\n",
            "_________________________________________________________________\n"
          ]
        }
      ]
    },
    {
      "cell_type": "markdown",
      "source": [
        "**Compiling the Model**"
      ],
      "metadata": {
        "id": "MsSod-xSl5Vt"
      }
    },
    {
      "cell_type": "code",
      "source": [
        "cifar10_model.compile(loss=\"sparse_categorical_crossentropy\", optimizer=\"Adam\", metrics=[\"sparse_categorical_accuracy\"])"
      ],
      "metadata": {
        "id": "qUrBTsZolFx-"
      },
      "execution_count": 19,
      "outputs": []
    },
    {
      "cell_type": "markdown",
      "source": [
        "**Training the Model**"
      ],
      "metadata": {
        "id": "61U279Hfl73k"
      }
    },
    {
      "cell_type": "code",
      "source": [
        "cifar10_model.fit(x_train,y_train,epochs=15)"
      ],
      "metadata": {
        "colab": {
          "base_uri": "https://localhost:8080/"
        },
        "id": "XJa3eHQOlHIx",
        "outputId": "c41ed28e-b185-4e8a-eacf-9cc79538d1f7"
      },
      "execution_count": 20,
      "outputs": [
        {
          "output_type": "stream",
          "name": "stdout",
          "text": [
            "Epoch 1/15\n",
            "1563/1563 [==============================] - 193s 123ms/step - loss: 1.4141 - sparse_categorical_accuracy: 0.4881\n",
            "Epoch 2/15\n",
            "1563/1563 [==============================] - 191s 122ms/step - loss: 1.0259 - sparse_categorical_accuracy: 0.6340\n",
            "Epoch 3/15\n",
            "1563/1563 [==============================] - 186s 119ms/step - loss: 0.8769 - sparse_categorical_accuracy: 0.6886\n",
            "Epoch 4/15\n",
            "1563/1563 [==============================] - 186s 119ms/step - loss: 0.7794 - sparse_categorical_accuracy: 0.7264\n",
            "Epoch 5/15\n",
            "1563/1563 [==============================] - 187s 120ms/step - loss: 0.7122 - sparse_categorical_accuracy: 0.7479\n",
            "Epoch 6/15\n",
            "1563/1563 [==============================] - 187s 120ms/step - loss: 0.6532 - sparse_categorical_accuracy: 0.7683\n",
            "Epoch 7/15\n",
            "1563/1563 [==============================] - 186s 119ms/step - loss: 0.6098 - sparse_categorical_accuracy: 0.7846\n",
            "Epoch 8/15\n",
            "1563/1563 [==============================] - 186s 119ms/step - loss: 0.5699 - sparse_categorical_accuracy: 0.7972\n",
            "Epoch 9/15\n",
            "1563/1563 [==============================] - 185s 118ms/step - loss: 0.5382 - sparse_categorical_accuracy: 0.8095\n",
            "Epoch 10/15\n",
            "1563/1563 [==============================] - 185s 119ms/step - loss: 0.5044 - sparse_categorical_accuracy: 0.8216\n",
            "Epoch 11/15\n",
            "1563/1563 [==============================] - 185s 118ms/step - loss: 0.4781 - sparse_categorical_accuracy: 0.8310\n",
            "Epoch 12/15\n",
            "1563/1563 [==============================] - 186s 119ms/step - loss: 0.4594 - sparse_categorical_accuracy: 0.8372\n",
            "Epoch 13/15\n",
            "1563/1563 [==============================] - 186s 119ms/step - loss: 0.4428 - sparse_categorical_accuracy: 0.8431\n",
            "Epoch 14/15\n",
            "1563/1563 [==============================] - 186s 119ms/step - loss: 0.4216 - sparse_categorical_accuracy: 0.8487\n",
            "Epoch 15/15\n",
            "1563/1563 [==============================] - 186s 119ms/step - loss: 0.3995 - sparse_categorical_accuracy: 0.8580\n"
          ]
        },
        {
          "output_type": "execute_result",
          "data": {
            "text/plain": [
              "<keras.callbacks.History at 0x7fa945e61310>"
            ]
          },
          "metadata": {},
          "execution_count": 20
        }
      ]
    },
    {
      "cell_type": "markdown",
      "source": [
        "**Testing the Model**"
      ],
      "metadata": {
        "id": "cTzviSn3mBiL"
      }
    },
    {
      "cell_type": "code",
      "source": [
        "test_loss, test_accuracy = cifar10_model.evaluate(x_test, y_test)"
      ],
      "metadata": {
        "colab": {
          "base_uri": "https://localhost:8080/"
        },
        "id": "yx0SvVUSlJd-",
        "outputId": "7e6eae6f-d88a-4c9e-aaaa-c5d92327b36a"
      },
      "execution_count": 21,
      "outputs": [
        {
          "output_type": "stream",
          "name": "stdout",
          "text": [
            "313/313 [==============================] - 10s 30ms/step - loss: 0.7203 - sparse_categorical_accuracy: 0.7722\n"
          ]
        }
      ]
    },
    {
      "cell_type": "code",
      "source": [
        "print(\"Test accuracy: {}\".format(test_accuracy))"
      ],
      "metadata": {
        "colab": {
          "base_uri": "https://localhost:8080/"
        },
        "id": "4JwGsg3hlKvc",
        "outputId": "27e5aa36-132c-4e68-b4dd-0beac44afdda"
      },
      "execution_count": 22,
      "outputs": [
        {
          "output_type": "stream",
          "name": "stdout",
          "text": [
            "Test accuracy: 0.7721999883651733\n"
          ]
        }
      ]
    }
  ]
}